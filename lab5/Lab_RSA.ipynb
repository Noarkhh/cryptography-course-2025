{
 "cells": [
  {
   "cell_type": "markdown",
   "id": "ef9d5667",
   "metadata": {},
   "source": [
    "# Metody kryptografii w analizie danych\n",
    "\n",
    "# Algorytm RSA"
   ]
  },
  {
   "cell_type": "markdown",
   "id": "46ad5ff7",
   "metadata": {},
   "source": [
    "Obecnie najpopularniejszy algorytm kryptografi asymetrycznej. Opublikowany w 1977 roku w *Scientific American's Mathematical Games* przez Rona Rivesta, Adiego Shamira i Leonarda Adlemana. Opiera się na problemie faktoryzacji liczb.\n",
    "\n",
    "W uproszczonej wersji algorytm RSA wygląda następująco:"
   ]
  },
  {
   "cell_type": "markdown",
   "id": "38c9759b",
   "metadata": {},
   "source": [
    "### Generowanie kluczy\n",
    "\n",
    "- Wybieramy dwie losowe liczby pierwsze $p$ i $q$\n",
    "- Obliczamy $n=pq$\n",
    "- Obliczamy funkcję Eulera $\\phi(n)=(p-1)(q-1)$\n",
    "- Wybieramy $e\\in\\{2,...,\\phi(n)-1\\}$ względnie pierwszą z $\\phi(n)$\n",
    "- Obliczamy $d=e^{-1}\\mod\\phi(n)$\n",
    "- Klucz publiczny to para $(n,e)$ a klucz prywatny to para $(n,d)$.\n"
   ]
  },
  {
   "cell_type": "markdown",
   "id": "534de81a",
   "metadata": {},
   "source": [
    "### Szyfrowanie\n",
    "Mamy dany klucz publiczny $(n,e)$. Wiadomość szyfrowana jest liczbą $m\\in [0,n)$.\n",
    "- Obliczamy szyfrogram $$c=m^e\\mod n.$$\n",
    "\n",
    "Teoretycznie może się zdarzyć, że szyfrogram $c$ jest taki sam, jak szyfrowana wiadomość $m$."
   ]
  },
  {
   "cell_type": "markdown",
   "id": "103acb53",
   "metadata": {},
   "source": [
    "### Deszyfrowanie\n",
    "- Obliczamy odszyfrowaną wiadomość $$m=c^d=m^{ed}\\mod n$$"
   ]
  },
  {
   "cell_type": "markdown",
   "id": "6a70f48f",
   "metadata": {},
   "source": [
    "## Ćwiczenie 1.\n",
    "\n",
    "Zaimplementuj uproszczony algorytm RSA."
   ]
  },
  {
   "cell_type": "code",
   "execution_count": 101,
   "id": "f06ccb8f",
   "metadata": {
    "ExecuteTime": {
     "end_time": "2025-03-31T16:31:45.447549Z",
     "start_time": "2025-03-31T16:31:45.428481Z"
    }
   },
   "outputs": [],
   "source": [
    "from Crypto.Util import number\n",
    "import random\n",
    "from math import gcd\n",
    "\n",
    "MIN_DIST = 2**64\n",
    "MIN_E = 2**16\n",
    "\n",
    "def gen_keys(n_length=2048):\n",
    "    min_dist = 2 ** int(0.1 * n_length) + 1\n",
    "    min_e = 2 ** int(0.05 * n_length) + 1\n",
    "    p = number.getPrime(n_length)\n",
    "    q = number.getPrime(n_length)\n",
    "    while abs(p - q) < min_dist:\n",
    "        q = number.getPrime(n_length)\n",
    "    n = p * q\n",
    "    euler_n = (p - 1) * (q - 1)\n",
    "    e = random.randrange(min_e, euler_n)\n",
    "    while gcd(e, euler_n) != 1:\n",
    "        e = random.randrange(2, euler_n)\n",
    "    d = pow(e, -1, euler_n)\n",
    "    return (n, e), (n, d)"
   ]
  },
  {
   "cell_type": "code",
   "outputs": [],
   "source": [
    "def rsa_encrypt(message, public_key):\n",
    "    (n, e) = public_key\n",
    "    return pow(message, e, n)\n",
    "\n",
    "\n",
    "def rsa_decrypt(cipher, private_key):\n",
    "    (n, d) = private_key\n",
    "    return pow(cipher, d, n)"
   ],
   "metadata": {
    "collapsed": false,
    "ExecuteTime": {
     "end_time": "2025-03-31T16:31:47.598592Z",
     "start_time": "2025-03-31T16:31:47.594813Z"
    }
   },
   "id": "dc4c7367187cc837",
   "execution_count": 102
  },
  {
   "cell_type": "code",
   "outputs": [],
   "source": [
    "pub_key, priv_key = gen_keys(1024)"
   ],
   "metadata": {
    "collapsed": false,
    "ExecuteTime": {
     "end_time": "2025-03-31T16:29:55.577495Z",
     "start_time": "2025-03-31T16:29:55.362556Z"
    }
   },
   "id": "48eefebab26943c6",
   "execution_count": 95
  },
  {
   "cell_type": "code",
   "outputs": [
    {
     "data": {
      "text/plain": "2137"
     },
     "execution_count": 96,
     "metadata": {},
     "output_type": "execute_result"
    }
   ],
   "source": [
    "message = 2137\n",
    "ciphertext = rsa_encrypt(message, pub_key)\n",
    "rsa_decrypt(ciphertext, priv_key)"
   ],
   "metadata": {
    "collapsed": false,
    "ExecuteTime": {
     "end_time": "2025-03-31T16:29:56.356313Z",
     "start_time": "2025-03-31T16:29:56.300567Z"
    }
   },
   "id": "eecb544dbef84c05",
   "execution_count": 96
  },
  {
   "cell_type": "markdown",
   "id": "6d58ab81",
   "metadata": {},
   "source": [
    "# Proste ataki na RSA"
   ]
  },
  {
   "cell_type": "markdown",
   "id": "d825d411",
   "metadata": {},
   "source": [
    "## Brute force\n",
    "\n",
    "Najprostszym (ale też najmniej efektywnym i najbardziej bezsensownym) możliwym atakiem na RSA jest atak brute force:\n",
    "\n",
    "#### Krok 1.\n",
    "- Wersja 1: tablicujemy wszystkie liczby pierwsze mniejsze lub równe $\\sqrt{n}$ do tablicy $T$.\n",
    "- Wersja 2: pomijamy tablicowanie i w kroku 2. po prostu sprawdzamy wszystkie liczby naturalne mniejsze lub równe $\\sqrt{n}$\n",
    "\n",
    "#### Krok 2.\n",
    "- Wersja 1: sprawdzamy podzielność $n$ przez każdą $p\\in T$.\n",
    "- Wersja 2: sprawdzamy podzielność $n$ przez każdą liczbę naturalną mniejszą lub równą $\\sqrt{n}$\n",
    "\n",
    "#### Krok 3.\n",
    "Mając faktoryzację $pq=n$ obliczamy $\\phi(n)$ oraz odtwarzamy $d=e^{-1}\\mod \\phi(n)$."
   ]
  },
  {
   "cell_type": "markdown",
   "id": "2ad1a654",
   "metadata": {},
   "source": [
    "## Ćwiczenie 2.\n",
    "Zaimplementuj atak brute force i przetestuj go na swojej implementacji RSA. Jeżeli atak zakończył się sukcesem - popraw implementację kryptosystemu. Jakie założenia powinny spełniać parametry kryptosystemu, aby atak się nie powiódł?"
   ]
  },
  {
   "cell_type": "code",
   "execution_count": 19,
   "id": "0b05c424",
   "metadata": {
    "ExecuteTime": {
     "end_time": "2025-03-31T12:01:12.505788Z",
     "start_time": "2025-03-31T12:01:12.498933Z"
    }
   },
   "outputs": [],
   "source": [
    "import math\n",
    "\n",
    "def sieve(num):\n",
    "    prime = [True for _ in range(num + 1)]\n",
    "    p = 2\n",
    "    while p * p <= num:\n",
    "        # If prime[p] is not\n",
    "        # changed, then it is a prime\n",
    "        if prime[p]:\n",
    "            # Updating all multiples of p\n",
    "            for i in range(p * p, num + 1, p):\n",
    "                prime[i] = False\n",
    "        p += 1\n",
    "    return prime"
   ]
  },
  {
   "cell_type": "code",
   "outputs": [],
   "source": [
    "(n, e), _ = gen_keys(15)\n",
    "t = sieve(int(math.sqrt(n)))\n",
    "primes = [i for i, n in enumerate(t) if n and i > 1]"
   ],
   "metadata": {
    "collapsed": false,
    "ExecuteTime": {
     "end_time": "2025-03-31T16:31:51.684985Z",
     "start_time": "2025-03-31T16:31:51.444880Z"
    }
   },
   "id": "d0a2573a37341b7e",
   "execution_count": 103
  },
  {
   "cell_type": "code",
   "outputs": [],
   "source": [
    "for can in primes:\n",
    "    if n % can == 0:\n",
    "        print(f\"Broken, p = {can}, q = {n // can}\")"
   ],
   "metadata": {
    "collapsed": false,
    "ExecuteTime": {
     "end_time": "2025-03-31T16:08:48.504396Z",
     "start_time": "2025-03-31T16:08:48.275661Z"
    }
   },
   "id": "e66922c171f153f7",
   "execution_count": 85
  },
  {
   "cell_type": "markdown",
   "id": "38c9ac34",
   "metadata": {},
   "source": [
    "## Faktoryzacja Fermata"
   ]
  },
  {
   "cell_type": "markdown",
   "id": "d2a5b17b",
   "metadata": {},
   "source": [
    "Faktoryzacja Fermata liczby nieparzystej $n$ opiera się na znalezieniu pary liczb $a,b$ takich, że $n=a^2-b^2$. Wtedy od razu otrzymujemy faktoryzację $$n=(a+b)(a-b).$$\n",
    "\n",
    "Dla dowolnej złożonej liczby nieparzystej (tzn. liczby nieparzystej nie będącej liczbą pierwszą) znajdziemy takie liczby $a,b$. W szczególności, w przypadku $n=pq$ (jak w RSA) mamy $$a=\\frac{p+q}{2},\\qquad b=\\frac{p-q}{2}.$$"
   ]
  },
  {
   "cell_type": "markdown",
   "id": "5942a512",
   "metadata": {},
   "source": [
    "#### Krok 0.\n",
    "Sprawdzamy, czy $\\sqrt{n}$ jest liczbą naturalną. Jeżeli tak - znaleźliśmy faktoryzację i koniec algorytmu.\n",
    "#### Krok 1.\n",
    "Definiujemy zmienne pomocnicze\n",
    "$$a = \\left\\lceil\\sqrt{n}\\right\\rceil,\\qquad\n",
    "b^2 = a^2 - n.$$\n",
    "#### Krok 2.\n",
    "Jeżeli $\\sqrt{b^2}$ jest liczbą całkowitą, to kończymy algorytm i zwracamy $a$ oraz $b=\\sqrt{b^2}$. Jeżeli nie, to aktualizujemy zmienne:\n",
    "$$a=a + 1,\\qquad b^2=a^2 - n.$$\n"
   ]
  },
  {
   "cell_type": "markdown",
   "id": "d7881084",
   "metadata": {},
   "source": [
    "## Ćwiczenie 3.\n",
    "Zaimplementuj atak z użyciem faktoryzacji Fermata i przetestuj go na swojej implementacji RSA. Jeżeli atak zakończył się sukcesem - popraw implementację kryptosystemu. Jakie założenia powinny spełniać parametry kryptosystemu, aby atak się nie powiódł?"
   ]
  },
  {
   "cell_type": "code",
   "execution_count": 62,
   "id": "2f94f9bf",
   "metadata": {
    "ExecuteTime": {
     "end_time": "2025-03-31T12:30:05.587416Z",
     "start_time": "2025-03-31T12:30:05.582452Z"
    }
   },
   "outputs": [],
   "source": [
    "# TYPE YOUR CODE BELOW\n",
    "def is_square(apositiveint):\n",
    "  x = apositiveint // 2\n",
    "  seen = set([x])\n",
    "  while x * x != apositiveint:\n",
    "    x = (x + (apositiveint // x)) // 2\n",
    "    if x in seen: return False\n",
    "    seen.add(x)\n",
    "  return True"
   ]
  },
  {
   "cell_type": "code",
   "outputs": [],
   "source": [
    "def fermat_attack(n, max_iters, log = False):\n",
    "    if is_square(n):\n",
    "        print(f\"Broken: p and q = {round(math.sqrt(n))}\")\n",
    "    a = math.ceil(math.sqrt(n))\n",
    "    b_sqr = a ** 2 - n\n",
    "    for _ in range(max_iters) :\n",
    "        if is_square(b_sqr):\n",
    "            b = n // a\n",
    "            p = a + b\n",
    "            q = a - b\n",
    "            print(f\"Broken: p = {p} and q = {q}\")\n",
    "            return True\n",
    "        a += 1\n",
    "        b_sqr = a ** 2 - n\n",
    "    if log:\n",
    "        print(f\"Not broken in {max_iters} iters\")\n",
    "    return False"
   ],
   "metadata": {
    "collapsed": false,
    "ExecuteTime": {
     "end_time": "2025-03-31T12:41:24.636135Z",
     "start_time": "2025-03-31T12:41:24.624855Z"
    }
   },
   "id": "4adb992df65fab43",
   "execution_count": 77
  },
  {
   "cell_type": "code",
   "outputs": [
    {
     "name": "stdout",
     "output_type": "stream",
     "text": [
      "n = 483842851609230329311\n",
      "Not broken in 1000000 iters\n"
     ]
    }
   ],
   "source": [
    "(n, e), _ = gen_keys(35)\n",
    "print(f\"n = {n}\")\n",
    "fermat_attack(n, 1000000)"
   ],
   "metadata": {
    "collapsed": false,
    "ExecuteTime": {
     "end_time": "2025-03-31T12:39:07.225615Z",
     "start_time": "2025-03-31T12:39:02.598349Z"
    }
   },
   "id": "c7232d89bf662aa5",
   "execution_count": 75
  },
  {
   "cell_type": "code",
   "outputs": [],
   "source": [
    "for _ in range(1000):\n",
    "    (n, e), _ = gen_keys(35)\n",
    "    fermat_attack(n, 1000, False)"
   ],
   "metadata": {
    "collapsed": false,
    "ExecuteTime": {
     "end_time": "2025-03-31T16:32:18.498552Z",
     "start_time": "2025-03-31T16:32:14.102875Z"
    }
   },
   "id": "4b50f3d20cb3ca47",
   "execution_count": 107
  },
  {
   "cell_type": "markdown",
   "id": "6854dec5",
   "metadata": {},
   "source": [
    "# Ataki nie wykorzystujące faktoryzacji"
   ]
  },
  {
   "cell_type": "markdown",
   "id": "c03492fd",
   "metadata": {},
   "source": [
    "## Atak naiwny"
   ]
  },
  {
   "cell_type": "markdown",
   "id": "9363c876",
   "metadata": {},
   "source": [
    "Jeżeli wykładnik $e$ jest niewielki oraz dla wiadomości $m$ wartość $m^e<n$, to $c=m^e\\mod n=m^e$. Możemy zatem odzyskać $m$ obliczając $m=\\sqrt[e]{c}$."
   ]
  },
  {
   "cell_type": "markdown",
   "id": "09fb040c",
   "metadata": {},
   "source": [
    "## Ćwiczenie 3.\n",
    "Sprawdź, czy Twoja implementacja RSA jest podatna na powyższy atak wykonując co najmniej 1000 prób. Jeżeli którakolwiek zakończyła się powodzeniem - popraw implementację. Jakie założenia powinny spełniać parametry kryptosystemu, żeby atak nie miał szans powodzenia?"
   ]
  },
  {
   "cell_type": "code",
   "execution_count": 106,
   "id": "03cb97de",
   "metadata": {
    "ExecuteTime": {
     "end_time": "2025-03-31T16:32:07.317871Z",
     "start_time": "2025-03-31T16:32:06.482863Z"
    }
   },
   "outputs": [],
   "source": [
    "# TYPE YOUR CODE BELOW\n",
    "\n",
    "MESSAGE = 1337\n",
    "for _ in range(1000):\n",
    "    public_key, _ = gen_keys(35)\n",
    "    n, e = public_key\n",
    "    c = rsa_encrypt(MESSAGE, public_key)\n",
    "    if pow(c, 1 / e) == MESSAGE:\n",
    "        print(\"Message too short\")\n",
    "     "
   ]
  },
  {
   "cell_type": "markdown",
   "id": "719631e6",
   "metadata": {},
   "source": [
    "## Atak Wienera"
   ]
  },
  {
   "cell_type": "markdown",
   "id": "dfafb8d3",
   "metadata": {},
   "source": [
    "Atak Wienera odtwarza klucz prywatny $d$ z klucza publicznego $(n,e)$ bez konieczności faktoryzacji $n$.\n",
    "\n",
    "#### Krok 1.\n",
    "Przeksztacamy ułamek $\\frac{e}{n}$ na ułamek łańcuchowy postaci $${\\displaystyle x=a_{0}+{\\cfrac {1}{a_{1}+{\\cfrac {1}{a_{2}+{\\cfrac {1}{a_{3}+{\\cfrac {1}{a_{4}+\\ddots \\,\\frac{1}{a_k}}}}}}}}}}$$o standardowej reprezentacji $[a_0;a_1,a_2,...,a_{k−2},a_{k−1},a_k]$.\n",
    "\n",
    "#### Krok 2.\n",
    "Dla każdego reduktu ułamka łańcuchowego, tzn. ułamka łańcuchowego postaci $[a_0]$, $[a_0;a_1]$, $[a_0;a_1,a_2]$,...,$[a_0;a_1,a_2,...,a_{k−2},a_{k−1},a_k]$ sprawdzamy, czy jest on rozwinięciem ułamka $\\frac{s}{d}$ w ułamek łańcuchowy dla pewnej stałej $s$:\n",
    "- niech $l$ oznacza licznik a $m$ - mianownik reduktu\n",
    "- sprawdź, czy mianownik $m$ jest nieparzysty. Jeżeli nie - przejdź do sprawdzania kolejnego reduktu.\n",
    "- sprawdź, czy $em=1\\mod l$. Jeżeli nie - przejdź do sprawdzania kolejnego reduktu.\n",
    "- zdefiniuj wielomian pomocniczy $$Q(x)=x^2-(n-\\frac{em-1}{l}+1)x+n.$$Jeżeli pierwiastki tego wielomianu są liczbami całkowitymi, to aktualny mianownik $m$ reduktu jest szukanym kluczem prywatnym $d$.\n",
    "\n",
    "\n",
    "Atak Wienera niekoniecznie musi zakończyć się sukcesem - jeżeli sprawdzimy wszystkie redukty i żaden nie jest rozwinięciem $\\frac{s}{d}$, to dany zestaw parametrów RSA jest odporny na ten atak."
   ]
  },
  {
   "cell_type": "markdown",
   "id": "febae910",
   "metadata": {},
   "source": [
    "## Ćwiczenie 4.\n",
    "\n",
    "Sprawdź, czy Twoja implementacja RSA jest podatna na atak Wienera wykonując co najmniej 100 prób. Jeżeli którakolwiek zakończyła się powodzeniem - popraw implementację. Jakie założenia powinny spełniać parametry kryptosystemu, żeby atak nie miał szans powodzenia?"
   ]
  },
  {
   "cell_type": "code",
   "execution_count": null,
   "id": "9f0a7f69",
   "metadata": {},
   "outputs": [],
   "source": [
    "# TYPE YOUR CODE BELOW\n"
   ]
  }
 ],
 "metadata": {
  "kernelspec": {
   "display_name": "Python 3 (ipykernel)",
   "language": "python",
   "name": "python3"
  },
  "language_info": {
   "codemirror_mode": {
    "name": "ipython",
    "version": 3
   },
   "file_extension": ".py",
   "mimetype": "text/x-python",
   "name": "python",
   "nbconvert_exporter": "python",
   "pygments_lexer": "ipython3",
   "version": "3.11.5"
  }
 },
 "nbformat": 4,
 "nbformat_minor": 5
}
