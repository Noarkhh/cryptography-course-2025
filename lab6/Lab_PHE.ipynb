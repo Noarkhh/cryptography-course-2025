{
 "cells": [
  {
   "cell_type": "markdown",
   "id": "69c572c1",
   "metadata": {},
   "source": [
    "# Metody Kryptografii w analizie danych\n",
    "\n",
    "# Kryptosystemy częściowo homomorficzne"
   ]
  },
  {
   "cell_type": "markdown",
   "id": "ee0784ce",
   "metadata": {},
   "source": [
    "## RSA\n",
    "\n",
    "Mamy klucz publiczny $(n,e)$ i klucz prywatny $(n,d)$. Szyfrujemy tym samym kluczem publicznym dwie wiadomości $m_1$ i $m_2$. Otrzymane szyfrogramy są postaci:\n",
    "$$c_1=m_1^e\\mod n\\qquad c_2=m_2^e\\mod n.$$\n",
    "\n",
    "Jeżeli teraz spróbujemy zdeszyfrować kluczem prywatnym iloczyn otrzymanych szyfrogramów, to otrzymamy\n",
    "$$(c_1c_2)^d\\mod n=c_1^dc_2^d\\mod n=(c_1^d\\mod n)(c_2^d\\mod n)=m_1m_2$$\n",
    "\n",
    "Otrzymaliśmy zatem, że\n",
    "$$D\\big(E(m_1)E(m_2)\\big)=m_1m_2$$\n",
    "czyli **RSA jest częściowo homomorficzny ze względu na mnożenie**."
   ]
  },
  {
   "cell_type": "markdown",
   "id": "3fe48a8e",
   "metadata": {},
   "source": [
    "## Ćwiczenie 1.\n",
    "\n",
    "Korzystając z implementacji RSA z ostatnich zajęć sprawdź czy są limity dla liczby homomorficznych operacji mnożenia (tzn. czy od jakiejś liczby operacji na szyfrogramach zaczynamy otrzymywać błędne deszyfrowanie)."
   ]
  },
  {
   "cell_type": "code",
   "outputs": [],
   "source": [
    "from Crypto.Util import number\n",
    "import random\n",
    "from math import gcd\n",
    "\n",
    "MIN_DIST = 2 ** 64\n",
    "MIN_E = 2 ** 16\n",
    "\n",
    "\n",
    "def gen_rsa_keys(n_length=2048):\n",
    "    min_dist = 2 ** int(0.1 * n_length) + 1\n",
    "    min_e = 2 ** int(0.05 * n_length) + 1\n",
    "    p = number.getPrime(n_length)\n",
    "    q = number.getPrime(n_length)\n",
    "    while abs(p - q) < min_dist:\n",
    "        q = number.getPrime(n_length)\n",
    "    n = p * q\n",
    "    euler_n = (p - 1) * (q - 1)\n",
    "    e = random.randrange(min_e, euler_n)\n",
    "    while gcd(e, euler_n) != 1:\n",
    "        e = random.randrange(2, euler_n)\n",
    "    d = pow(e, -1, euler_n)\n",
    "    return (n, e), (n, d)\n",
    "\n",
    "\n",
    "def rsa_encrypt(message, public_key):\n",
    "    (n, e) = public_key\n",
    "    return pow(message, e, n)\n",
    "\n",
    "\n",
    "def rsa_decrypt(cipher, private_key):\n",
    "    (n, d) = private_key\n",
    "    return pow(cipher, d, n)"
   ],
   "metadata": {
    "collapsed": false,
    "ExecuteTime": {
     "end_time": "2025-04-07T11:45:18.574009Z",
     "start_time": "2025-04-07T11:45:18.569151Z"
    }
   },
   "id": "e7bf850c5d0b4121",
   "execution_count": 11
  },
  {
   "cell_type": "code",
   "execution_count": 3,
   "id": "e1d1f8f5",
   "metadata": {
    "ExecuteTime": {
     "end_time": "2025-04-07T11:33:47.469957Z",
     "start_time": "2025-04-07T11:33:46.994261Z"
    }
   },
   "outputs": [],
   "source": [
    "pub_key, priv_key = gen_rsa_keys(1024)"
   ]
  },
  {
   "cell_type": "code",
   "outputs": [
    {
     "name": "stdout",
     "output_type": "stream",
     "text": [
      "Regular product: 897540\n",
      "Homomorphic product: 897540\n"
     ]
    }
   ],
   "source": [
    "message1 = 2137\n",
    "message2 = 420\n",
    "ciphertext1 = rsa_encrypt(message1, pub_key)\n",
    "ciphertext2 = rsa_encrypt(message2, pub_key)\n",
    "ciphertext_product = ciphertext1 * ciphertext2\n",
    "homomorphic_product = rsa_decrypt(ciphertext_product, priv_key)\n",
    "\n",
    "print(f\"Regular product: {message1 * message2}\")\n",
    "print(f\"Homomorphic product: {homomorphic_product}\")"
   ],
   "metadata": {
    "collapsed": false,
    "ExecuteTime": {
     "end_time": "2025-04-07T11:33:48.037803Z",
     "start_time": "2025-04-07T11:33:47.944824Z"
    }
   },
   "id": "a1181e6f4db3395d",
   "execution_count": 4
  },
  {
   "cell_type": "code",
   "outputs": [
    {
     "name": "stdout",
     "output_type": "stream",
     "text": [
      "Product difference at iteration 615:\n",
      "Regular product: 100000000000000000000000000000000000000000000000000000000000000000000000000000000000000000000000000000000000000000000000000000000000000000000000000000000000000000000000000000000000000000000000000000000000000000000000000000000000000000000000000000000000000000000000000000000000000000000000000000000000000000000000000000000000000000000000000000000000000000000000000000000000000000000000000000000000000000000000000000000000000000000000000000000000000000000000000000000000000000000000000000000000000000000000000000000000000000000000000000000000000000000000000000000000000000000000000000000000000000000000000000000000000000\n",
      "Homomorphic product: 8204269179905113301621767938471898165484869889982990727888445905934269065185363538409722723921726827612349781822153226593736580260498000872274820407237636533936149400708923871860262008783921635828056151432565614766830411159395370297556010914114651455907293179132897628255175178977362254529249021268350500492037940185944794954678290361149300757161925082843912331942210922011505277791577975094736988695436935752534215436026320324702355613047703964374685821492303799495108371018550167652459269289826803071336489308883603816373868475980324501673924633177789785732376611388556857352594467943230106834193295107230109963512\n"
     ]
    }
   ],
   "source": [
    "message = 10\n",
    "regular_product = message\n",
    "ciphertext = rsa_encrypt(message, pub_key)\n",
    "ciphertext_product = ciphertext\n",
    "for i in range(1000000):\n",
    "    regular_product *= message\n",
    "    ciphertext_product *= ciphertext\n",
    "    homomorphic_product = rsa_decrypt(ciphertext_product, priv_key)\n",
    "    if regular_product != homomorphic_product:\n",
    "        print(f\"Product difference at iteration {i}:\")\n",
    "        print(f\"Regular product: {regular_product}\")\n",
    "        print(f\"Homomorphic product: {homomorphic_product}\")\n",
    "        break"
   ],
   "metadata": {
    "collapsed": false,
    "ExecuteTime": {
     "end_time": "2025-04-07T11:41:55.744917Z",
     "start_time": "2025-04-07T11:41:37.335687Z"
    }
   },
   "id": "d24b1b885df63daf",
   "execution_count": 9
  },
  {
   "cell_type": "markdown",
   "id": "0ac7ebe4",
   "metadata": {},
   "source": [
    "## Kryptosystem Pailliera\n",
    "\n",
    "### Generowanie kluczy\n",
    "- wybieramy losowo liczby pierwsze $p$, $q$ o tej samej długości w zapisie dziesiętnym i obliczamy $n=pq$, $g=n+1$, $\\lambda=\\phi(n)=(p-1)(q-1)$ oraz  $\\mu =\\phi (n)^{-1}{\\mod {n}}$.\n",
    "- kluczem publicznym jest $(n,g)$ a kluczem prywatnym $(\\lambda,\\mu)$\n",
    "\n",
    "\n",
    "### Szyfrowanie\n",
    "Szyfrujemy liczbę $0\\leq m<n$. Wybieramy losowe $r<n$ względnie pierwsze z $n$ i obliczamy szyfrogram $$c=g^{m}\\cdot r^{n}{\\mod {n}}^{2}.$$\n",
    "\n",
    "\n",
    "### Deszyfrowanie\n",
    "Obliczamy $$m=\\mu L(c^{\\lambda }{\\bmod {n}}^{2}){\\bmod {n}},$$ gdzie  $L(x)$ to największa liczba naturalna $\\nu$ taka, że $x-1\\geq \\nu n$.\n",
    "\n",
    "Pomimo czynnika losowego przy szyfrowaniu, kryptosystem Pailliera ma własność $$D\\big(E(m_{1},r_{1})\\cdot E(m_{2},r_{2})\\big)=m_{1}+m_{2}$$\n",
    "a zatem jest **częściowo homomorficzny ze względu na dodawanie**."
   ]
  },
  {
   "cell_type": "markdown",
   "id": "85346647",
   "metadata": {},
   "source": [
    "## Ćwiczenie 2.\n",
    "\n",
    "Zaimplementuj kryptosystem Pailliera. Sprawdź, czy są limity homomorficznych operacji dodawania."
   ]
  },
  {
   "cell_type": "code",
   "outputs": [],
   "source": [
    "def gen_paillier_keys(n_length=2048):\n",
    "    min_dist = 2 ** int(0.1 * n_length) + 1\n",
    "    p = number.getPrime(n_length)\n",
    "    q = number.getPrime(n_length)\n",
    "    while abs(p - q) < min_dist:\n",
    "        q = number.getPrime(n_length)\n",
    "    n = p * q\n",
    "    g = n + 1\n",
    "    lambda_ = (p - 1) * (q - 1)\n",
    "    mi = pow(lambda_, -1, n)\n",
    "    return (n, g), (lambda_, mi)\n",
    "\n",
    "\n",
    "def paillier_encrypt(message, public_key):\n",
    "    (n, g) = public_key\n",
    "    r = n\n",
    "    while gcd(n, r) != 1:\n",
    "        r = random.randint(2, n)\n",
    "    return (pow(g, message, n ** 2) * pow(r, n, n ** 2)) % (n ** 2)\n",
    "    # return ((g ** message) * (r ** n)) % (n ** 2)\n",
    "\n",
    "\n",
    "def paillier_decrypt(ciphertext, public_key, private_key):\n",
    "    (lambda_, mi) = private_key\n",
    "    (n, g) = public_key\n",
    "    x = pow(ciphertext, lambda_, n ** 2)\n",
    "    lx = (x - 1) // n \n",
    "    return (mi * lx) % n"
   ],
   "metadata": {
    "collapsed": false,
    "ExecuteTime": {
     "end_time": "2025-04-07T12:04:14.749788Z",
     "start_time": "2025-04-07T12:04:14.745184Z"
    }
   },
   "id": "2088d470cad3f89a",
   "execution_count": 24
  },
  {
   "cell_type": "code",
   "outputs": [],
   "source": [],
   "metadata": {
    "collapsed": false,
    "ExecuteTime": {
     "end_time": "2025-04-07T12:04:15.654852Z",
     "start_time": "2025-04-07T12:04:15.653178Z"
    }
   },
   "id": "f809749540979da8",
   "execution_count": 24
  },
  {
   "cell_type": "code",
   "execution_count": 26,
   "id": "9363aaff",
   "metadata": {
    "ExecuteTime": {
     "end_time": "2025-04-07T12:05:47.416770Z",
     "start_time": "2025-04-07T12:05:46.072513Z"
    }
   },
   "outputs": [
    {
     "data": {
      "text/plain": "2137"
     },
     "execution_count": 26,
     "metadata": {},
     "output_type": "execute_result"
    }
   ],
   "source": [
    "p_pub_key, p_priv_key = gen_paillier_keys(10)\n",
    "\n",
    "message = 2137\n",
    "ciphertext = paillier_encrypt(message, p_pub_key)\n",
    "decrypted = paillier_decrypt(ciphertext, p_pub_key, p_priv_key)\n",
    "\n",
    "decrypted"
   ]
  },
  {
   "cell_type": "code",
   "outputs": [
    {
     "name": "stdout",
     "output_type": "stream",
     "text": [
      "Regular sum: 2557\n",
      "Homomorphic sum: 2557\n"
     ]
    }
   ],
   "source": [
    "message1 = 2137\n",
    "message2 = 420\n",
    "ciphertext1 = paillier_encrypt(message1, p_pub_key)\n",
    "ciphertext2 = paillier_encrypt(message2, p_pub_key)\n",
    "ciphertext_product = ciphertext1 * ciphertext2\n",
    "homomorphic_sum = paillier_decrypt(ciphertext_product, p_pub_key, p_priv_key)\n",
    "\n",
    "print(f\"Regular sum: {message1 + message2}\")\n",
    "print(f\"Homomorphic sum: {homomorphic_product}\")\n"
   ],
   "metadata": {
    "collapsed": false,
    "ExecuteTime": {
     "end_time": "2025-04-07T12:09:02.940747Z",
     "start_time": "2025-04-07T12:09:00.389064Z"
    }
   },
   "id": "f3779a3f16ec13f1",
   "execution_count": 29
  },
  {
   "cell_type": "markdown",
   "id": "d9c1736f",
   "metadata": {},
   "source": [
    "Kryptosystem nazywamy *w pewnym sensie homomorficznym*, jeżeli operacjami na samych szyfrogramach $E(m_1),...,E(m_k)$ jesteśmy w stanie obliczyć pewne określone kombinacje dodawania i mnożenia oryginalnych wiadomości $m_1,...,m_k$."
   ]
  },
  {
   "cell_type": "code",
   "outputs": [],
   "source": [],
   "metadata": {
    "collapsed": false
   },
   "id": "84e1f3a0719ec297"
  },
  {
   "cell_type": "markdown",
   "id": "37a0ff2c",
   "metadata": {},
   "source": [
    "## Ćwiczenie 3.\n",
    "\n",
    "Wykorzystując RSA i Pailliera zaimplementuj kryptosystem, który będzie w stanie obliczyć $(m_1m_2+m_3)\\cdot m_4$. Wszystkie działania muszą się odbywać na danych zaszyfrowanych (nie możemy ujawnić chmurze żadnej wiadomości $m_1$, $m_2$, $m_3$, $m_4$). Czy jesteśmy w stanie w ten sposób skonstruować kryptosystem w pewnym sensie homomorficzny?"
   ]
  },
  {
   "cell_type": "code",
   "execution_count": 33,
   "id": "02c3d2e4",
   "metadata": {
    "ExecuteTime": {
     "end_time": "2025-04-07T12:24:55.903330Z",
     "start_time": "2025-04-07T12:24:52.698967Z"
    }
   },
   "outputs": [
    {
     "name": "stdout",
     "output_type": "stream",
     "text": [
      "Regular result: 232\n",
      "Homomorphic result: 232\n"
     ]
    }
   ],
   "source": [
    "m1 = 3\n",
    "m2 = 6\n",
    "m3 = 11\n",
    "m4 = 8\n",
    "\n",
    "p_pub_key, p_priv_key = gen_paillier_keys(10)\n",
    "r_pub_key, r_priv_key = gen_rsa_keys(10)\n",
    "\n",
    "m1_rsa = rsa_encrypt(m1, r_pub_key)\n",
    "m2_rsa = rsa_encrypt(m2, r_pub_key)\n",
    "# client -> server (m1_rsa, m2_rsa)\n",
    "m1_times_m2_rsa = m1_rsa * m2_rsa\n",
    "# server -> client m1_times_m2_rsa\n",
    "m1_times_m2 = rsa_decrypt(m1_times_m2_rsa, r_priv_key)\n",
    "m1_times_m2_paillier = paillier_encrypt(m1_times_m2, p_pub_key)\n",
    "m3_paillier = paillier_encrypt(m3, p_pub_key)\n",
    "# client -> server (m1_times_m2_paillier, m3_paillier)\n",
    "m1_times_m2_plus_m3_paillier = m1_times_m2_paillier * m3_paillier\n",
    "# server -> client m1_times_m2_plus_m3_paillier\n",
    "m1_times_m2_plus_m3 = paillier_decrypt(m1_times_m2_plus_m3_paillier, p_pub_key, p_priv_key)\n",
    "m1_times_m2_plus_m3_rsa = rsa_encrypt(m1_times_m2_plus_m3, r_pub_key)\n",
    "m4_rsa = rsa_encrypt(m4, r_pub_key)\n",
    "# client -> server (m1_times_m2_plus_m3_rsa, m4_rsa)\n",
    "m1_times_m2_plus_m3_times_m4_rsa = m1_times_m2_plus_m3_rsa * m4_rsa\n",
    "# server -> client m1_times_m2_plus_m3_times_m4_rsa\n",
    "m1_times_m2_plus_m3_times_m4 = rsa_decrypt(m1_times_m2_plus_m3_times_m4_rsa, r_priv_key)\n",
    "\n",
    "print(f\"Regular result: {(m1 * m2 + m3) * m4}\")\n",
    "print(f\"Homomorphic result: {m1_times_m2_plus_m3_times_m4}\")"
   ]
  },
  {
   "cell_type": "code",
   "outputs": [
    {
     "name": "stdout",
     "output_type": "stream",
     "text": [
      "232\n"
     ]
    }
   ],
   "source": [
    "variables = [3, 6, 11, 8]\n",
    "operations = [\"mult\", \"add\", \"mult\"]\n",
    "\n",
    "result = variables[0]\n",
    "for variable, operation in zip(variables[1:], operations):\n",
    "    match operation:\n",
    "        case \"mult\":\n",
    "            encrypt_fun = lambda m: rsa_encrypt(m, r_pub_key)\n",
    "            decrypt_fun = lambda m: rsa_decrypt(m, r_priv_key)\n",
    "        case \"add\":\n",
    "            encrypt_fun = lambda m: paillier_encrypt(m, p_pub_key)\n",
    "            decrypt_fun = lambda m: paillier_decrypt(m, p_pub_key, p_priv_key)\n",
    "    result_enc = encrypt_fun(result)\n",
    "    variable_enc = encrypt_fun(variable)\n",
    "    # Serwer: pomnóż\n",
    "    new_result_enc = result_enc * variable_enc\n",
    "    # Serwer: oddaj\n",
    "    result = decrypt_fun(new_result_enc)\n",
    "\n",
    "print(result)"
   ],
   "metadata": {
    "collapsed": false,
    "ExecuteTime": {
     "end_time": "2025-04-07T12:33:13.032888Z",
     "start_time": "2025-04-07T12:33:09.568166Z"
    }
   },
   "id": "f2d67dc6ea3dbab7",
   "execution_count": 36
  },
  {
   "cell_type": "code",
   "outputs": [],
   "source": [],
   "metadata": {
    "collapsed": false
   },
   "id": "cfd94564df4e1182"
  }
 ],
 "metadata": {
  "kernelspec": {
   "display_name": "Python 3 (ipykernel)",
   "language": "python",
   "name": "python3"
  },
  "language_info": {
   "codemirror_mode": {
    "name": "ipython",
    "version": 3
   },
   "file_extension": ".py",
   "mimetype": "text/x-python",
   "name": "python",
   "nbconvert_exporter": "python",
   "pygments_lexer": "ipython3",
   "version": "3.11.5"
  }
 },
 "nbformat": 4,
 "nbformat_minor": 5
}
